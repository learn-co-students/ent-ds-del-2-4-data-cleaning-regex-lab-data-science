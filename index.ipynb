{
 "cells": [
  {
   "cell_type": "markdown",
   "metadata": {},
   "source": [
    "# Data cleaning with Regular Expressions - Lab\n",
    "\n",
    "\n",
    "## Introduction\n",
    "In the last lesson, we introduced a lot of new concepts. We introduced Regular Expressions, and showed how to use them to replace or retrieve information - from a DataFrame, a string or a file. In this lab, we're going to get some practice - first by writing regular expresssions to clean up strings, and then to apply transformations to information in a DataFrame and then finally to pull strings from a larger document. \n",
    "\n",
    "***Remember, it's a lab, so you need to fork it, clone it, `cd` into the directory and then open it up locally on your computer using `jupyter notebook`.***\n",
    "\n",
    "## Objectives\n",
    "You will be able to:\n",
    "* Apply Regular Expressions to data stored within a string\n",
    "* Apply Regular Expressions to data stored within a DataFrame\n",
    "* Apply Regular Expressions to data stored within a file"
   ]
  },
  {
   "cell_type": "markdown",
   "metadata": {},
   "source": [
    "## Cleaning up a String\n",
    "\n",
    "Lets start by getting some practice making changes to a string using the `sub()` (substitutue) method in the Python `re` (regular expression) standard library. \n",
    "\n",
    "*Hint: Remember that you'll need to import the `re` library to make this work.*\n",
    "\n",
    "Fullow the instructions in the cell below:"
   ]
  },
  {
   "cell_type": "code",
   "execution_count": null,
   "metadata": {},
   "outputs": [],
   "source": [
    "content = \"It's the end of the world as we know it, and I feel fine.\"\n",
    "# Uncomment the line below this comment, and write the code to apply the sub() regex method to the content variable, \n",
    "# to create a new variable called \"without_punctuation\" that has the same text, but no apostrophes, commas or periods.\n",
    "# without_punctuation = . . .\n",
    "import re\n",
    "without_punctuation = re.sub(\"['',.]\", \"\", content)\n",
    "print(without_punctuation)"
   ]
  },
  {
   "cell_type": "markdown",
   "metadata": {},
   "source": [
    "Great! Now in the cell below, take the original content variable and remove everything that isn't a letter (including spaces and punctuation)."
   ]
  },
  {
   "cell_type": "code",
   "execution_count": null,
   "metadata": {},
   "outputs": [],
   "source": [
    "# your code goes here\n",
    "import re\n",
    "without_punctuation_or_spaces = re.sub(\"['',. ]\", \"\", content)\n",
    "print(without_punctuation_or_spaces)"
   ]
  },
  {
   "cell_type": "markdown",
   "metadata": {},
   "source": [
    "Alright! Next up, in the cell below, remove everything that *is* a letter - just leave the spaces and punctuation. "
   ]
  },
  {
   "cell_type": "code",
   "execution_count": null,
   "metadata": {},
   "outputs": [],
   "source": [
    "# your code goes here\n",
    "import re\n",
    "spaces_and_punctuation_only = re.sub(\"[^'',. ]\", \"\", content)\n",
    "print(spaces_and_punctuation_only)"
   ]
  },
  {
   "cell_type": "markdown",
   "metadata": {},
   "source": [
    "Looking good! In the following cell create and print two new variables - let's call them \"vowels\" and \"consonants\" and they should only contain the vowels (with spaces) and consonants (without spaces) from the varible below \"a_well_known_phrase\"."
   ]
  },
  {
   "cell_type": "code",
   "execution_count": null,
   "metadata": {},
   "outputs": [],
   "source": [
    "a_well_known_phrase = \"The quick brown fox jumps over the lazy dog\"\n",
    "# your code goes here\n",
    "vowels = re.sub(\"[^aeiou]\", \"\", a_well_known_phrase)\n",
    "consonants = re.sub(\"[aeiou ]\", \"\", a_well_known_phrase)\n",
    "print(vowels)\n",
    "print(consonants)"
   ]
  },
  {
   "cell_type": "markdown",
   "metadata": {},
   "source": [
    "## Cleaning up a Column in a DataFrame\n",
    "\n",
    "Alright! There is a csv in this directory. It's called \"company_list.csv\". In the cell below, write the code to import it into a DataFrame - lets call the DataFrame \"companies\" to reflect what it contains."
   ]
  },
  {
   "cell_type": "code",
   "execution_count": null,
   "metadata": {},
   "outputs": [],
   "source": [
    "import pandas as pd\n",
    "companies = pd.read_csv(\"company_list.csv\")\n",
    "print(companies.head(3))\n",
    "companies.info()"
   ]
  },
  {
   "cell_type": "markdown",
   "metadata": {},
   "source": [
    "Great! Now write a script to take the FaxNumber column, and to remove any non-numeric characters."
   ]
  },
  {
   "cell_type": "code",
   "execution_count": null,
   "metadata": {},
   "outputs": [],
   "source": [
    "companies[\"FaxNumber\"] = companies[\"FaxNumber\"].str.replace(\"[^0-9]\", \"\")\n",
    "companies.head(3)"
   ]
  },
  {
   "cell_type": "markdown",
   "metadata": {},
   "source": [
    "Now write a script to strip non-numeric characters from the AnnualRevenues, and then to change the data type to integer and display the mean AnnualRevenues for a company on this list. \n",
    "\n",
    "***What is the mean revenue for a company on this list according to the data in the spreadsheet?***"
   ]
  },
  {
   "cell_type": "code",
   "execution_count": null,
   "metadata": {},
   "outputs": [],
   "source": [
    "companies[\"AnnualRevenues\"] = companies[\"AnnualRevenues\"].str.replace(\"[^0-9.]\", \"\")\n",
    "companies[\"AnnualRevenues\"] = companies[\"AnnualRevenues\"].astype(\"float\").astype(\"int64\")\n",
    "companies.describe()\n",
    "# The mean is 6.200000e+07 = which is $62,000,000"
   ]
  },
  {
   "cell_type": "markdown",
   "metadata": {},
   "source": [
    "## Importing and Retrieving Substrings from a Larger File\n",
    "\n",
    "There's a text file called `macbeth.txt` in this project directory. Open and read the file into a variable called macbeth."
   ]
  },
  {
   "cell_type": "code",
   "execution_count": null,
   "metadata": {},
   "outputs": [],
   "source": [
    "macbeth  = open(\"macbeth.txt\", \"r\").read()\n",
    "print(macbeth[:500])"
   ]
  },
  {
   "cell_type": "markdown",
   "metadata": {},
   "source": [
    "OK, now we have the text of Macbeth, lets find all of the references to the following characters:\n",
    "Lady, King, Malcome, Donalbaine, Lenox, Witches, Captaine, Banquo\n",
    "\n",
    "Return a list that contains every match to any one of those strings."
   ]
  },
  {
   "cell_type": "code",
   "execution_count": null,
   "metadata": {},
   "outputs": [],
   "source": [
    "characters = re.findall(r'Lady|King|Malcome|Donalbaine|Lenox|Witches|Captaine|Banquo', macbeth)\n",
    "print(characters)"
   ]
  },
  {
   "cell_type": "markdown",
   "metadata": {},
   "source": [
    "And for bonus points (not required!), see if you can write a script that counts the number of each mentions and returns something similar to a dictionary with the number of mentions of each word. It should look something like:\n",
    "\n",
    "{'King': 12, 'Lady': 12, 'Banquo': 12, 'Lenox': 12, 'Witches': 12, 'Donalbaine': 12, 'Captaine': 12, 'Malcome': 12}\n",
    "\n",
    "Hint, there's a special library you can import - the syntax is `from collections import Counter` - see if you can Google to figure out how to use it!"
   ]
  },
  {
   "cell_type": "code",
   "execution_count": null,
   "metadata": {},
   "outputs": [],
   "source": [
    "from collections import Counter\n",
    "mention_counts = Counter(characters)\n",
    "print(mention_counts)"
   ]
  },
  {
   "cell_type": "markdown",
   "metadata": {},
   "source": [
    "## Summary\n",
    "\n",
    "Congratulations! Just a couple of weeks ago you probably didn't even have Python installed and now you're using it to import and clean up all kinds of different data sets! Next up, we're going to start to look into API's (Application Programming Interfaces) and how we can use them to retrieve data to work on!"
   ]
  }
 ],
 "metadata": {
  "kernelspec": {
   "display_name": "Python 3",
   "language": "python",
   "name": "python3"
  },
  "language_info": {
   "codemirror_mode": {
    "name": "ipython",
    "version": 3
   },
   "file_extension": ".py",
   "mimetype": "text/x-python",
   "name": "python",
   "nbconvert_exporter": "python",
   "pygments_lexer": "ipython3",
   "version": "3.6.5"
  }
 },
 "nbformat": 4,
 "nbformat_minor": 2
}
